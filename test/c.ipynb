{
    "cells": [
        {
            "cell_type": "markdown",
            "metadata": {},
            "source": [
                "# 1. 아주 간단한 버전의 MLP<br>\n",
                "## library<br>\n",
                "최소한으로 필요한 라이브러리들 선언<br>\n",
                "In[ ]:\n"
            ]
        },
        {
            "cell_type": "code",
            "execution_count": null,
            "metadata": {},
            "outputs": [],
            "source": [
                "import numpy as np\n",
                "from tensorflow import keras\n",
                "from tensorflow.keras.models import Sequential\n",
                "from tensorflow.keras.layers import Dense\n"
            ]
        },
        {
            "cell_type": "markdown",
            "metadata": {},
            "source": [
                "## 데이터 셋 불러오기<br>\n",
                "iris 데이터셋을 활용할 예정<br>\n",
                "In[ ]:\n"
            ]
        },
        {
            "cell_type": "code",
            "execution_count": null,
            "metadata": {},
            "outputs": [],
            "source": [
                "from sklearn import datasets\n",
                "iris = datasets.load_iris()\n",
                "x=iris.data\n",
                "y = keras.utils.to_categorical(iris.target, 3)\n"
            ]
        },
        {
            "cell_type": "markdown",
            "metadata": {},
            "source": [
                "## 모델 구성<br>\n",
                "간단하게 모델 구성하기<br>\n",
                "In[ ]:\n"
            ]
        },
        {
            "cell_type": "code",
            "execution_count": null,
            "metadata": {},
            "outputs": [],
            "source": [
                "model = Sequential()\n",
                "model.add(Dense(4, activation='relu', input_shape=(4,)))\n",
                "model.add(Dense(3, activation='softmax'))\n",
                "model.summary()\n"
            ]
        },
        {
            "cell_type": "markdown",
            "metadata": {},
            "source": [
                "사용할 fuction 들을 지정<br>\n",
                "In[ ]:\n"
            ]
        },
        {
            "cell_type": "code",
            "execution_count": null,
            "metadata": {},
            "outputs": [],
            "source": [
                "model.compile(loss='categorical_crossentropy',\n",
                "              optimizer='adam',\n",
                "              metrics=['accuracy'])\n"
            ]
        },
        {
            "cell_type": "markdown",
            "metadata": {},
            "source": [
                "## 모델 학습 및 테스트 결과 보기<br>\n",
                "fit을 통해 학습을 하고 score 확인<br>\n",
                "In[ ]:\n"
            ]
        },
        {
            "cell_type": "code",
            "execution_count": null,
            "metadata": {},
            "outputs": [],
            "source": [
                "model.fit(x, y,\n",
                "          batch_size=10,\n",
                "          epochs=100,\n",
                "          verbose=0\n",
                ")\n"
            ]
        },
        {
            "cell_type": "markdown",
            "metadata": {},
            "source": [
                "\n",
                "\n"
            ]
        },
        {
            "cell_type": "code",
            "execution_count": null,
            "metadata": {},
            "outputs": [],
            "source": [
                "score = model.evaluate(x, y, verbose=0)\n",
                "print('Test loss:', score[0])\n",
                "print('Test accuracy:', score[1])\n"
            ]
        },
        {
            "cell_type": "markdown",
            "metadata": {},
            "source": [
                "## 적용 예<br>\n",
                "실제로 다른 꽃을 측정하여 모델에 집어 넣어 이 꽃이 어떤 것인지 알고자 할 경우<br>\n",
                "In[ ]:\n"
            ]
        },
        {
            "cell_type": "code",
            "execution_count": null,
            "metadata": {},
            "outputs": [],
            "source": [
                "x[:1,:],y[:1,:],x[60:61,:],y[60:61,:]\n",
                "\n"
            ]
        },
        {
            "cell_type": "markdown",
            "metadata": {},
            "source": [
                "In[ ]:\n",
                "\n"
            ]
        },
        {
            "cell_type": "code",
            "execution_count": null,
            "metadata": {},
            "outputs": [],
            "source": [
                "x_test=np.array( [ [5.1, 3.5, 1.4, 0.2],[5. , 2. , 3.5, 1. ]])\n",
                "r=model.predict(x_test)\n",
                "np.argmax(r, axis=-1)\n"
            ]
        },
        {
            "cell_type": "markdown",
            "metadata": {},
            "source": [
                "\n",
                "# 위와 같이 나오는 0,1,2 의 값은 우리가 원하는 답이 아님(Decoding이 되어 있지 않음.)\n"
            ]
        }
    ],
    "metadata": {
        "anaconda-cloud": "",
        "kernelspec": {
            "display_name": "R",
            "langauge": "R",
            "name": "ir"
        },
        "language_info": {
            "codemirror_mode": "r",
            "file_extension": ".r",
            "mimetype": "text/x-r-source",
            "name": "R",
            "pygments_lexer": "r",
            "version": "3.4.1"
        }
    },
    "nbformat": 4,
    "nbformat_minor": 1
}
