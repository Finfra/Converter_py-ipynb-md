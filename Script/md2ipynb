#!/usr/bin/env Rscript

# Source : https://github.com/Finfra/Converter_py-ipynb-md.git

library(rmd2jupyter)

args = commandArgs(trailingOnly=TRUE)
rmd2jupyter(args[1])
