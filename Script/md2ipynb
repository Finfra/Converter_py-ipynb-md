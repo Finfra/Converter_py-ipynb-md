#!/usr/bin/env Rscript
library(rmd2jupyter)

args = commandArgs(trailingOnly=TRUE)
rmd2jupyter(args[1])
